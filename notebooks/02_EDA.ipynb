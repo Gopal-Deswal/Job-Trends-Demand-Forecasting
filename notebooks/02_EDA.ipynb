{
 "cells": [
  {
   "cell_type": "code",
   "execution_count": 1,
   "id": "9f8f2c49-f03a-42a1-8d5e-9442e3ea1f3f",
   "metadata": {
    "scrolled": true
   },
   "outputs": [
    {
     "name": "stdout",
     "output_type": "stream",
     "text": [
      "job_id                             0\n",
      "company_name                    1719\n",
      "title                              0\n",
      "description                        7\n",
      "max_salary                     94056\n",
      "pay_period                     87776\n",
      "location                           0\n",
      "company_id                      1717\n",
      "views                           1689\n",
      "med_salary                    117569\n",
      "min_salary                     94056\n",
      "formatted_work_type                0\n",
      "applies                       100529\n",
      "original_listed_time               0\n",
      "remote_allowed                108603\n",
      "job_posting_url                    0\n",
      "application_url                36665\n",
      "application_type                   0\n",
      "expiry                             0\n",
      "closed_time                   122776\n",
      "formatted_experience_level     29409\n",
      "skills_desc                   121410\n",
      "listed_time                        0\n",
      "posting_domain                 39968\n",
      "sponsored                          0\n",
      "work_type                          0\n",
      "currency                       87776\n",
      "compensation_type              87776\n",
      "normalized_salary              87776\n",
      "zip_code                       20872\n",
      "fips                           27415\n",
      "dtype: int64\n"
     ]
    }
   ],
   "source": [
    "import pandas as pd\n",
    "\n",
    "df = pd.read_csv('../data/raw/jobs_raw.csv')\n",
    "print(df.isnull().sum())\n"
   ]
  },
  {
   "cell_type": "code",
   "execution_count": 8,
   "id": "0b8b0894-cc7f-442a-b2f2-03f09dbb6ff4",
   "metadata": {},
   "outputs": [
    {
     "name": "stdout",
     "output_type": "stream",
     "text": [
      "After filling, min_salary nulls left: 0\n",
      "After filling, max_salary nulls left: 0\n",
      "After filling, views nulls left: 0\n",
      "After filling, applies nulls left: 0\n"
     ]
    }
   ],
   "source": [
    "numeric_cols = ['min_salary', 'max_salary', 'views', 'applies']\n",
    "\n",
    "for col in numeric_cols:\n",
    "    med = df[col].median()\n",
    "    # replace fillna(inplace=True) with an assignment\n",
    "    df[col] = df[col].fillna(med)\n",
    "    print(f\"After filling, {col} nulls left:\", df[col].isnull().sum())\n"
   ]
  },
  {
   "cell_type": "code",
   "execution_count": 2,
   "id": "43d6c233-23f3-4463-9901-7091418103f9",
   "metadata": {
    "scrolled": true
   },
   "outputs": [
    {
     "name": "stdout",
     "output_type": "stream",
     "text": [
      "job_id                             0\n",
      "company_name                    1718\n",
      "title                              0\n",
      "description                        0\n",
      "max_salary                     94050\n",
      "pay_period                     87770\n",
      "location                           0\n",
      "company_id                      1716\n",
      "views                           1689\n",
      "med_salary                    117562\n",
      "min_salary                     94050\n",
      "formatted_work_type                0\n",
      "applies                       100524\n",
      "original_listed_time               0\n",
      "remote_allowed                108599\n",
      "job_posting_url                    0\n",
      "application_url                36658\n",
      "application_type                   0\n",
      "expiry                             0\n",
      "closed_time                   122771\n",
      "formatted_experience_level     29402\n",
      "skills_desc                   121403\n",
      "listed_time                        0\n",
      "posting_domain                 39961\n",
      "sponsored                          0\n",
      "work_type                          0\n",
      "currency                       87770\n",
      "compensation_type              87770\n",
      "normalized_salary              87770\n",
      "zip_code                       20868\n",
      "fips                           27411\n",
      "dtype: int64\n"
     ]
    }
   ],
   "source": [
    "df = df.dropna(subset=['listed_time', 'title', 'description'])\n",
    "print(df.isnull().sum())\n"
   ]
  },
  {
   "cell_type": "code",
   "execution_count": 14,
   "id": "cac522d8-c535-45d3-940c-a192c2db724c",
   "metadata": {
    "collapsed": true,
    "jupyter": {
     "outputs_hidden": true
    }
   },
   "outputs": [
    {
     "name": "stdout",
     "output_type": "stream",
     "text": [
      "After filling, posting_domain nulls left: 0\n",
      "After filling, compensation_type nulls left: 0\n",
      "After filling, currency nulls left: 0\n"
     ]
    }
   ],
   "source": [
    "for col in ['posting_domain', 'compensation_type', 'currency']:\n",
    "    df[col] = df[col].fillna('Unknown')\n",
    "    print(f\"After filling, {col} nulls left:\", df[col].isnull().sum())\n",
    "   \n",
    "\n"
   ]
  },
  {
   "cell_type": "code",
   "execution_count": 15,
   "id": "dd1bedc2-f5d0-40e8-a360-0e5dfcfddf7c",
   "metadata": {},
   "outputs": [
    {
     "name": "stdout",
     "output_type": "stream",
     "text": [
      "pay_period nulls left: 0\n",
      "med_salary nulls left: 0\n",
      "normalized_salary nulls left: 0\n",
      "Dropped closed_time & skills_desc\n",
      "formatted_experience_level nulls left: 0\n",
      "zip_code nulls left: 0\n",
      "fips nulls left: 0\n",
      "\n",
      "Final null counts:\n",
      " job_id                            0\n",
      "company_name                      0\n",
      "title                             0\n",
      "description                       0\n",
      "max_salary                        0\n",
      "pay_period                        0\n",
      "location                          0\n",
      "company_id                      115\n",
      "views                             0\n",
      "med_salary                        0\n",
      "min_salary                        0\n",
      "formatted_work_type               0\n",
      "applies                           0\n",
      "original_listed_time              0\n",
      "remote_allowed                79374\n",
      "job_posting_url                   0\n",
      "application_url                   0\n",
      "application_type                  0\n",
      "expiry                            0\n",
      "formatted_experience_level        0\n",
      "listed_time                       0\n",
      "posting_domain                    0\n",
      "sponsored                         0\n",
      "work_type                         0\n",
      "currency                          0\n",
      "compensation_type                 0\n",
      "normalized_salary                 0\n",
      "zip_code                          0\n",
      "fips                              0\n",
      "dtype: int64\n"
     ]
    }
   ],
   "source": [
    "# 1. Fill pay_period\n",
    "df['pay_period'] = df['pay_period'].fillna('Unknown')\n",
    "print(\"pay_period nulls left:\", df['pay_period'].isnull().sum())\n",
    "\n",
    "# 2. Median fill for med_salary & normalized_salary\n",
    "for col in ['med_salary', 'normalized_salary']:\n",
    "    med = df[col].median()\n",
    "    df[col] = df[col].fillna(med)\n",
    "    print(f\"{col} nulls left:\", df[col].isnull().sum())\n",
    "\n",
    "# 3. Drop columns we won’t use\n",
    "df.drop(columns=['closed_time', 'skills_desc'], inplace=True)\n",
    "print(\"Dropped closed_time & skills_desc\")\n",
    "\n",
    "# 4. Mode fill for experience level\n",
    "mode_exp = df['formatted_experience_level'].mode()[0]\n",
    "df['formatted_experience_level'] = df['formatted_experience_level'].fillna(mode_exp)\n",
    "print(\"formatted_experience_level nulls left:\", df['formatted_experience_level'].isnull().sum())\n",
    "\n",
    "# 5. Fill zip_code & fips\n",
    "df['zip_code'] = df['zip_code'].fillna('Unknown')\n",
    "df['fips']     = df['fips'].fillna('Unknown')\n",
    "print(\"zip_code nulls left:\", df['zip_code'].isnull().sum())\n",
    "print(\"fips nulls left:\", df['fips'].isnull().sum())\n",
    "\n",
    "# 6. Final null‑check\n",
    "print(\"\\nFinal null counts:\\n\", df.isnull().sum())\n"
   ]
  },
  {
   "cell_type": "code",
   "execution_count": 16,
   "id": "6c1a1f46-91e6-43d2-8c7c-ca2b2e7c90c6",
   "metadata": {},
   "outputs": [
    {
     "name": "stdout",
     "output_type": "stream",
     "text": [
      "remote_allowed nulls left: 0\n"
     ]
    }
   ],
   "source": [
    "# In a new cell, below your final‐null‐check cell:\n",
    "mode_remote = df['remote_allowed'].mode()[0]\n",
    "df['remote_allowed'] = df['remote_allowed'].fillna(mode_remote)\n",
    "print(\"remote_allowed nulls left:\", df['remote_allowed'].isnull().sum())\n"
   ]
  },
  {
   "cell_type": "code",
   "execution_count": 17,
   "id": "88961d39-402b-47bf-a3fc-0d40145fed20",
   "metadata": {},
   "outputs": [
    {
     "name": "stdout",
     "output_type": "stream",
     "text": [
      "company_id nulls left: 0\n"
     ]
    }
   ],
   "source": [
    "# Fill missing company_id with a placeholder (-1)\n",
    "df['company_id'] = df['company_id'].fillna(-1)\n",
    "print(\"company_id nulls left:\", df['company_id'].isnull().sum())\n"
   ]
  },
  {
   "cell_type": "code",
   "execution_count": 19,
   "id": "b85519d1-0edf-41dd-ac6f-177872033a75",
   "metadata": {},
   "outputs": [
    {
     "name": "stdout",
     "output_type": "stream",
     "text": [
      "Cleaned data saved—shape: (87184, 29)\n"
     ]
    }
   ],
   "source": [
    "df.to_csv('/home/gopaldeswal/Job-Trends-Demand-Forecasting/data/processed/jobs_clean.csv', index=False)\n",
    "\n",
    "print(\"Cleaned data saved—shape:\", df.shape)\n"
   ]
  },
  {
   "cell_type": "code",
   "execution_count": null,
   "id": "39677f41-a4e7-42e1-8d73-41f03f7fc019",
   "metadata": {},
   "outputs": [],
   "source": []
  }
 ],
 "metadata": {
  "kernelspec": {
   "display_name": "Python (venv)",
   "language": "python",
   "name": "venv"
  },
  "language_info": {
   "codemirror_mode": {
    "name": "ipython",
    "version": 3
   },
   "file_extension": ".py",
   "mimetype": "text/x-python",
   "name": "python",
   "nbconvert_exporter": "python",
   "pygments_lexer": "ipython3",
   "version": "3.13.3"
  }
 },
 "nbformat": 4,
 "nbformat_minor": 5
}
